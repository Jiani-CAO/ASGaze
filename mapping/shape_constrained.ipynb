{
 "cells": [
  {
   "cell_type": "code",
   "execution_count": null,
   "id": "06f91689",
   "metadata": {
    "scrolled": true
   },
   "outputs": [],
   "source": [
    "import numpy as np\n",
    "import sys\n",
    "sys.path.append(\"D:\\\\ASGaze\")\n",
    "\n",
    "import import_ipynb\n",
    "from gaze_ray_estimator.estimator import get_cone, load_files\n",
    "from mapping.mapping_principle import Line3"
   ]
  },
  {
   "cell_type": "code",
   "execution_count": null,
   "id": "9bd046e2",
   "metadata": {},
   "outputs": [],
   "source": [
    "def fit_rectangle(p1,p2,p3,flag):\n",
    "        if(flag == 1):\n",
    "            A = [(p2[0]+p1[0])/2,(p2[1]+p3[1])/2]\n",
    "            B = [p3[0],(p2[1]+p3[1])/2]\n",
    "            C = [(p2[0]+p1[0])/2,p1[1]]\n",
    "            D = [p3[0],p1[1]]\n",
    "        elif(flag == 2):\n",
    "            A = [p1[0],(p1[1]+p2[1])/2]\n",
    "            B = [(p2[0]+p3[0])/2,(p1[1]+p2[1])/2]\n",
    "            C = [p1[0],p3[1]]\n",
    "            D = [(p2[0]+p3[0])/2,p3[1]]\n",
    "        elif(flag == 3):\n",
    "            A = [p3[0],p1[1]]\n",
    "            B = [(p1[0]+p2[0])/2,p1[1]]\n",
    "            C = [p3[0],(p3[1]+p2[1])/2]\n",
    "            D = [(p1[0]+p2[0])/2,(p3[1]+p2[1])/2]\n",
    "        else:\n",
    "            A = [(p2[0]+p3[0])/2,p3[1]]\n",
    "            B = [p1[0],p3[1]]\n",
    "            C = [(p2[0]+p3[0])/2,(p1[1]+p2[1])/2]\n",
    "            D = [p1[0],(p1[1]+p2[1])/2]\n",
    "\n",
    "        width = B[0]-A[0]\n",
    "        height = C[1]-A[1]\n",
    "        return np.array((A,B,C,D)),np.array((width,height))\n",
    "    \n",
    "def cal_offsets(PoG_CCS):\n",
    "    screen_x_px = 1920\n",
    "    screen_y_px = 1080\n",
    "    screen_x_mm = 527\n",
    "    screen_y_mm = 296\n",
    "\n",
    "    PoG_TCS_px = [[200,150],[1650,150],[200,800],[1650,800]]\n",
    "    PoG_TCS_mm = []\n",
    "    \n",
    "    for point in PoG_TCS_px:\n",
    "        x = point[0]*screen_x_mm/screen_x_px\n",
    "        y = point[1]*screen_y_mm/screen_y_px\n",
    "        PoG_TCS_mm.append(np.array((x,y)))\n",
    "\n",
    "    PoG_TCS_mm = np.array(PoG_TCS_mm)\n",
    "    screen_w_h = np.array((PoG_TCS_mm[1][0]-PoG_TCS_mm[0][0], PoG_TCS_mm[2][1]-PoG_TCS_mm[0][1]))\n",
    "    \n",
    "    rect_1,w_h_1 = fit_rectangle(PoG_CCS[2],PoG_CCS[0],PoG_CCS[1],1)\n",
    "    rect_2,w_h_2 = fit_rectangle(PoG_CCS[0],PoG_CCS[1],PoG_CCS[3],2)\n",
    "    rect_3,w_h_3 = fit_rectangle(PoG_CCS[1],PoG_CCS[3],PoG_CCS[2],3)\n",
    "    rect_4,w_h_4 = fit_rectangle(PoG_CCS[3],PoG_CCS[2],PoG_CCS[0],4)\n",
    "\n",
    "    delta_WH_1 = np.sum(np.abs(w_h_1-screen_w_h))\n",
    "    delta_WH_2 = np.sum(np.abs(w_h_2-screen_w_h))\n",
    "    delta_WH_3 = np.sum(np.abs(w_h_3-screen_w_h))\n",
    "    delta_WH_4 = np.sum(np.abs(w_h_4-screen_w_h))\n",
    "\n",
    "    delta_WH_list = [delta_WH_1,delta_WH_2,delta_WH_3,delta_WH_4]\n",
    "    min_delta,index = min(delta_WH_list),delta_WH_list.index(min(delta_WH_list))\n",
    "\n",
    "    if(index == 0):\n",
    "        offsets = np.mean((np.abs(rect_1-PoG_TCS_mm)),axis=0)\n",
    "    elif(index == 1):\n",
    "        offsets = np.mean((np.abs(rect_2-PoG_TCS_mm)),axis=0)\n",
    "    elif(index == 2):\n",
    "        offsets = np.mean((np.abs(rect_3-PoG_TCS_mm)),axis=0)\n",
    "    else:\n",
    "        offsets = np.mean((np.abs(rect_4-PoG_TCS_mm)),axis=0)\n",
    "    \n",
    "    return index+1,offsets"
   ]
  }
 ],
 "metadata": {
  "kernelspec": {
   "display_name": "Python 3 (ipykernel)",
   "language": "python",
   "name": "python3"
  },
  "language_info": {
   "codemirror_mode": {
    "name": "ipython",
    "version": 3
   },
   "file_extension": ".py",
   "mimetype": "text/x-python",
   "name": "python",
   "nbconvert_exporter": "python",
   "pygments_lexer": "ipython3",
   "version": "3.8.13"
  }
 },
 "nbformat": 4,
 "nbformat_minor": 5
}
