{
 "cells": [
  {
   "cell_type": "code",
   "execution_count": null,
   "id": "87ea3044",
   "metadata": {},
   "outputs": [],
   "source": [
    "import numpy as np"
   ]
  },
  {
   "cell_type": "markdown",
   "id": "4589fdc8",
   "metadata": {},
   "source": [
    "### Ray-plane intersection"
   ]
  },
  {
   "cell_type": "code",
   "execution_count": null,
   "id": "a0ce3ef2",
   "metadata": {},
   "outputs": [],
   "source": [
    "class Line3():\n",
    "    # Define a line using point p and a directional vector\n",
    "    def __init__(self, p, normal):\n",
    "        self.p = p\n",
    "        self.n = normal/np.linalg.norm(normal)\n",
    "\n",
    "    def get_pos(self):\n",
    "    # We assume that camera plane is nearly parallel to the tracking area (z=0),\n",
    "    # and calculate the gaze point in millimetres at this planar intersection.\n",
    "\n",
    "        x0, y0, z0 = self.p\n",
    "        dx, dy, dz = self.n\n",
    "        t = -z0 / dz\n",
    "    \n",
    "        point = np.zeros(3)\n",
    "        for i in range(3):\n",
    "            point[i] = self.p[i] + self.n[i]*t\n",
    "\n",
    "        return point"
   ]
  },
  {
   "cell_type": "markdown",
   "id": "06a9c53b",
   "metadata": {},
   "source": [
    "### Transformation between CCS and TCS"
   ]
  },
  {
   "cell_type": "code",
   "execution_count": null,
   "id": "19c0946c",
   "metadata": {},
   "outputs": [],
   "source": [
    "def screen2cam_mm(point,x0,y0):\n",
    "    # TCS -> CCS\n",
    "\n",
    "    u, v = point[0], point[1]\n",
    "\n",
    "    x = u - x0\n",
    "    y = v - y0\n",
    "\n",
    "    return np.array([x,y,0])\n",
    "\n",
    "def cam2screen_mm(point,x0,y0):\n",
    "    # CCS - > TCS\n",
    "\n",
    "    x, y = point[0], point[1]\n",
    "    \n",
    "    u = x + x0\n",
    "    v = y + y0\n",
    "\n",
    "    return np.array([u,v])"
   ]
  }
 ],
 "metadata": {
  "kernelspec": {
   "display_name": "Python 3 (ipykernel)",
   "language": "python",
   "name": "python3"
  },
  "language_info": {
   "codemirror_mode": {
    "name": "ipython",
    "version": 3
   },
   "file_extension": ".py",
   "mimetype": "text/x-python",
   "name": "python",
   "nbconvert_exporter": "python",
   "pygments_lexer": "ipython3",
   "version": "3.8.13"
  }
 },
 "nbformat": 4,
 "nbformat_minor": 5
}
