{
 "cells": [
  {
   "cell_type": "code",
   "execution_count": null,
   "metadata": {},
   "outputs": [],
   "source": [
    "import os\n",
    "import sys\n",
    "import os.path as path\n",
    "sys.path.append(\"D:\\\\ASGaze\")\n",
    "\n",
    "import cv2\n",
    "import numpy as np\n",
    "import configparser\n",
    "from glob import glob\n",
    "\n",
    "import torch\n",
    "import torch.utils.data\n",
    "\n",
    "import import_ipynb\n",
    "from iris_boundary_detector.data_sources.transform import aug,raw\n",
    "from iris_boundary_detector.graph.losses import one_hot2dist"
   ]
  },
  {
   "cell_type": "code",
   "execution_count": null,
   "metadata": {
    "code_folding": []
   },
   "outputs": [],
   "source": [
    "class ASGaze_data(torch.utils.data.Dataset):\n",
    "    def __init__(self, datapath, name, out_res=(321,321), split='train', aug=True, flag=0):\n",
    "        \"\"\" Pytorch Dataset definition for ASGaze dataset\n",
    "        KeyArgs:\n",
    "            out_res(tuple(int,int)): desired image resolution\n",
    "            aug(bool): data augmentation\n",
    "            flag(int): Type of return value for different usages. \n",
    "                    0: inference\n",
    "                    1: train\n",
    "        \"\"\"\n",
    "        self.datapath, self.aug = path.join(datapath,name,split), aug\n",
    "        print(\"datapath\",os.path.abspath(self.datapath))\n",
    "        if(flag == 0):\n",
    "            self.img_fns = glob(path.join(self.datapath,'*'))\n",
    "        else:\n",
    "            self.img_fns = glob(path.join(self.datapath,'image/*'))\n",
    "        self.out_res = out_res\n",
    "        self.name, self.config = name,configparser.ConfigParser()\n",
    "        self._difficulty, self.flag = 0.0, flag  # Define bounds for noise values for different augmentation types\n",
    "    \n",
    "        print(\"Load {} samples of {} Dataset {} split from {}\".format(len(self.img_fns),name,split,self.datapath))\n",
    "    \n",
    "    def set_difficulty(self, difficulty):\n",
    "        \"\"\"Set level of data augmentation.\"\"\"\n",
    "        assert isinstance(difficulty, float)\n",
    "        assert 0.0 <= difficulty <= 1.0\n",
    "        self._difficulty = difficulty\n",
    "        \n",
    "    def rect_transform(self, rect, trans):\n",
    "        \"\"\"Convert cropped rect back to original one\"\"\"\n",
    "        return [(rect[0] + trans[1:3])/trans[0],rect[1]/trans[0],rect[-1]]\n",
    "    \n",
    "    def parse_ellipse(self, datapath):\n",
    "        \"\"\"Parsing ini format ellipse\"\"\"\n",
    "        self.config.read(datapath)\n",
    "        center = [\n",
    "            float(self.config.get('iris','center_x')), \n",
    "            float(self.config.get('iris','center_y'))\n",
    "        ]\n",
    "\n",
    "        l,s = float(self.config.get('iris','long_radius')),float(self.config.get('iris','short_radius'))\n",
    "        \n",
    "        if l > s:\n",
    "            degree = float(self.config.get('iris','rad_phi'))/np.pi*180.0*-1\n",
    "            radius = [l*2,s*2]\n",
    "        else:\n",
    "            degree = float(self.config.get('iris','rad_phi'))/np.pi*180.0*-1 + 90\n",
    "            radius = [s*2,l*2]\n",
    "\n",
    "        return [center, radius, degree]\n",
    "        \n",
    "    def __len__(self):\n",
    "        return len(self.img_fns)\n",
    "    \n",
    "    def __getitem__(self, idx):\n",
    "        full_img = cv2.cvtColor(cv2.imread(self.img_fns[idx]),cv2.COLOR_BGR2RGB)\n",
    "        file_id = self.img_fns[idx].split(\".\")[-2]\n",
    "        data_id = file_id.split(\"\\\\\")[-1]\n",
    "        \n",
    "        if self.flag == 0: # For inference\n",
    "            crop_img, rect_trans = raw(full_img,self.out_res, 0.0)\n",
    "            return data_id,crop_img,rect_trans,full_img\n",
    "        \n",
    "        if self.flag == 1: # For training segmentation network\n",
    "            # Load ground truth of ellipse parameters\n",
    "            rotated_rect = self.parse_ellipse(path.join(self.datapath,'ellipse_params',data_id+\".ini\"))  \n",
    "            # Load ground truth of mask\n",
    "            gt_img = cv2.imread(path.join(self.datapath,'mask',data_id+\".png\"))\n",
    "            crop_img, gt ,one_hot, rotated_rect, rect_trans = aug(\n",
    "                full_img, [gt_img], rotated_rect, self.out_res, flag=self.flag, diff=self._difficulty)\n",
    "            \n",
    "            # For iris missing loss\n",
    "            iris_missing_weights = cv2.Canny(gt.astype(np.uint8),0,2)/255\n",
    "            iris_missing_weights = cv2.dilate(iris_missing_weights,(3,3),iterations = 1)*20\n",
    "            iris_missing_weights[iris_missing_weights==0] = 1\n",
    "\n",
    "            # For distance map loss\n",
    "            distMap = []\n",
    "            for i in range(0, 3):\n",
    "                distMap.append(one_hot2dist(gt==i))\n",
    "            distMap = np.stack(distMap, 0) \n",
    "            \n",
    "            return data_id, crop_img, gt, one_hot, rotated_rect, rect_trans, iris_missing_weights, np.float32(distMap) \n",
    "            \n",
    "    def get_test(self, idx):\n",
    "        return self.__getitem__(idx)"
   ]
  }
 ],
 "metadata": {
  "kernelspec": {
   "display_name": "Python 3 (ipykernel)",
   "language": "python",
   "name": "python3"
  },
  "language_info": {
   "codemirror_mode": {
    "name": "ipython",
    "version": 3
   },
   "file_extension": ".py",
   "mimetype": "text/x-python",
   "name": "python",
   "nbconvert_exporter": "python",
   "pygments_lexer": "ipython3",
   "version": "3.8.13"
  },
  "varInspector": {
   "cols": {
    "lenName": 16,
    "lenType": 16,
    "lenVar": 40
   },
   "kernels_config": {
    "python": {
     "delete_cmd_postfix": "",
     "delete_cmd_prefix": "del ",
     "library": "var_list.py",
     "varRefreshCmd": "print(var_dic_list())"
    },
    "r": {
     "delete_cmd_postfix": ") ",
     "delete_cmd_prefix": "rm(",
     "library": "var_list.r",
     "varRefreshCmd": "cat(var_dic_list()) "
    }
   },
   "types_to_exclude": [
    "module",
    "function",
    "builtin_function_or_method",
    "instance",
    "_Feature"
   ],
   "window_display": false
  }
 },
 "nbformat": 4,
 "nbformat_minor": 2
}
