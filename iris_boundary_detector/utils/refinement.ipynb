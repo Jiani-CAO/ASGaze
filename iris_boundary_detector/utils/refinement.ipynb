{
 "cells": [
  {
   "cell_type": "code",
   "execution_count": null,
   "metadata": {},
   "outputs": [],
   "source": [
    "import numpy as np\n",
    "import cv2\n",
    "import configparser"
   ]
  },
  {
   "cell_type": "markdown",
   "metadata": {},
   "source": [
    "### Feature detecting"
   ]
  },
  {
   "cell_type": "code",
   "execution_count": null,
   "metadata": {},
   "outputs": [],
   "source": [
    "def feature_detect(src,minHessian=200,thresh=0,is_setUpright=True):\n",
    "    row_indices,col_indices = np.nonzero(src)\n",
    "    points = (col_indices,row_indices)\n",
    "    points_np = np.array(points).T\n",
    "\n",
    "    e1= cv2.fitEllipse(points_np)\n",
    "    center_x = int(e1[0][0])\n",
    "    src_left = src[:,:center_x]\n",
    "    src_right = src[:,center_x:]\n",
    "    if(np.count_nonzero(src_left) == 0 or np.count_nonzero(src_right) == 0):\n",
    "        print(\"entropy p\")\n",
    "        return src,(col_indices,row_indices)\n",
    "\n",
    "    # Step 1: Detect the keypoints using SURF Detector\n",
    "    detector = cv2.xfeatures2d_SURF.create(hessianThreshold=minHessian)\n",
    "    detector.setUpright(is_setUpright)\n",
    "    \n",
    "    keypoints_left = detector.detect(src_left)\n",
    "    pts_left = np.array([np.around(keypoints_left[idx].pt) for idx in range(len(keypoints_left))], dtype = int)\n",
    "    \n",
    "    keypoints_right = detector.detect(src_right)\n",
    "    pts_right = np.array([np.around(keypoints_right[idx].pt) for idx in range(len(keypoints_right))], dtype = int)\n",
    "\n",
    "    src_left_new = np.zeros((src_left.shape[0], src_left.shape[1]), dtype=np.uint8)\n",
    "    src_right_new = np.zeros((src_right.shape[0], src_right.shape[1]), dtype=np.uint8)\n",
    "\n",
    "    if(len(pts_left)> thresh):\n",
    "        pts_left_x_min,pts_left_x_max = np.min(pts_left[:,0]),np.max(pts_left[:,0])\n",
    "        pts_left_y_min,pts_left_y_max = np.min(pts_left[:,1]),np.max(pts_left[:,1])\n",
    "        \n",
    "        src_left_new[pts_left_y_min:pts_left_y_max,pts_left_x_min:pts_left_x_max] = src_left[pts_left_y_min:pts_left_y_max,pts_left_x_min:pts_left_x_max]\n",
    "        if(np.count_nonzero(src_left_new) == 0):\n",
    "            src_left_new = src_left\n",
    "    else:\n",
    "        src_left_new = src_left\n",
    "    \n",
    "    if(len(pts_right)> thresh):\n",
    "        # Step 2: Find the xmin xmax ymin ymax for pts_left, pts_righ\n",
    "        pts_right_x_min,pts_right_x_max = np.min(pts_right[:,0]),np.max(pts_right[:,0])\n",
    "        pts_right_y_min,pts_right_y_max = np.min(pts_right[:,1]),np.max(pts_right[:,1])\n",
    "\n",
    "        src_right_new[pts_right_y_min:pts_right_y_max,pts_right_x_min:pts_right_x_max] = src_right[pts_right_y_min:pts_right_y_max,pts_right_x_min:pts_right_x_max]\n",
    "        if(np.count_nonzero(src_right_new) == 0):\n",
    "            src_right_new = src_right\n",
    "    else:\n",
    "        src_right_new = src_right\n",
    "        \n",
    "    \n",
    "    src_new = np.zeros((src.shape[0], src.shape[1]), dtype=np.uint8)\n",
    "    src_new = np.hstack((src_left_new,src_right_new))\n",
    "    row_indices,col_indices = np.nonzero(src_new)\n",
    "\n",
    "    return src_new,(col_indices,row_indices)"
   ]
  },
  {
   "cell_type": "markdown",
   "metadata": {},
   "source": [
    "### Feature matching"
   ]
  },
  {
   "cell_type": "code",
   "execution_count": null,
   "metadata": {},
   "outputs": [],
   "source": [
    "def find_center_x(img):\n",
    "    row_indices,col_indices = np.nonzero(img)\n",
    "    points = (col_indices,row_indices)\n",
    "    points_np = np.array(points).T\n",
    "    e1= cv2.fitEllipse(points_np)\n",
    "    center_x = int(e1[0][0])\n",
    "    return center_x\n",
    "\n",
    "def is_feature_matching(img1_l_r,img2_l_r,minHessian=120,thresh=5): \n",
    "    flag = False\n",
    "    # Step 1: Detect the keypoints using SURF Detector, compute the descriptors\n",
    "    detector = cv2.xfeatures2d_SURF.create(hessianThreshold=minHessian)\n",
    "    detector.setUpright(True)\n",
    "    kp1, des1 = detector.detectAndCompute(img1_l_r, None)\n",
    "    kp2, des2 = detector.detectAndCompute(img2_l_r, None)\n",
    "    if(len(kp1)==0 or len(kp2)==0):\n",
    "        return flag,kp1,kp2\n",
    "    \n",
    "    # Step 2: Matching descriptor vectors with a brute force matcher\n",
    "    matcher = cv2.BFMatcher.create(cv2.NORM_L1, crossCheck=True)\n",
    "    matches = matcher.match(des1, des2)\n",
    "    if(len(matches) >= thresh):\n",
    "        flag = True\n",
    "    \n",
    "    # Step 3: Calculate new keypoint.pt for img1_l_r and img2_l_r\n",
    "    pt1 = []\n",
    "    pt2 = []\n",
    "    for i,m in enumerate(matches):\n",
    "        pt1.append(np.around(kp1[m.queryIdx].pt))\n",
    "        pt2.append(np.around(kp2[m.trainIdx].pt))\n",
    "    \n",
    "    pt1 = np.array(pt1,dtype=int)\n",
    "    pt2 = np.array(pt2,dtype=int)\n",
    "    \n",
    "    return flag,pt1,pt2\n",
    "\n",
    "def is_feature_matching_all(img1,img2): # Check the matching of the left and right parts separately\n",
    "    center_x = find_center_x(img1)\n",
    "    img1_left = img1[:,:center_x]\n",
    "    img1_right = img1[:,center_x:]\n",
    "    if(np.count_nonzero(img1_left) == 0 or np.count_nonzero(img1_right) == 0):\n",
    "        return False,0,0,False,0,0\n",
    "    \n",
    "    center_x = find_center_x(img2)\n",
    "    img2_left = img2[:,:center_x]\n",
    "    img2_right = img2[:,center_x:]\n",
    "    if(np.count_nonzero(img2_left) == 0 or np.count_nonzero(img2_right) == 0):\n",
    "        return False,0,0,False,0,0\n",
    "    \n",
    "    flag_l,pt1_l,pt2_l = is_feature_matching(img1_left,img2_left)\n",
    "    flag_r,pt1_r,pt2_r = is_feature_matching(img1_right,img2_right)\n",
    "    return flag_l,pt1_l,pt2_l,flag_r,pt1_r,pt2_r\n",
    "    \n",
    "def cal_bb(pt1,pt2):\n",
    "    pt1_x_min,pt1_x_max = np.min(pt1[:,0]),np.max(pt1[:,0])\n",
    "    pt1_y_min,pt1_y_max = np.min(pt1[:,1]),np.max(pt1[:,1])\n",
    "\n",
    "    pt2_x_min,pt2_x_max = np.min(pt2[:,0]),np.max(pt2[:,0])\n",
    "    pt2_y_min,pt2_y_max = np.min(pt2[:,1]),np.max(pt2[:,1])\n",
    "    \n",
    "    return (pt1_x_min,pt1_x_max,pt1_y_min,pt1_y_max),(pt2_x_min,pt2_x_max,pt2_y_min,pt2_y_max)    \n",
    "\n",
    "def feature_remove(img1,img2,pt1_l,pt2_l,pt1_r,pt2_r):\n",
    "    center_x = find_center_x(img1)\n",
    "    img1_left = img1[:,:center_x]\n",
    "    img1_right = img1[:,center_x:]\n",
    "    \n",
    "    center_x = find_center_x(img2)\n",
    "    img2_left = img2[:,:center_x]\n",
    "    img2_right = img2[:,center_x:]\n",
    "    \n",
    "    # Step 4: Calculate the bounding box of keypoint.pt for img1 and img2 \n",
    "    img1_left_bb,img2_left_bb = cal_bb(pt1_l,pt2_l)\n",
    "    img1_right_bb,img2_right_bb = cal_bb(pt1_r,pt2_r)\n",
    "    \n",
    "    img1_left_new = np.zeros((img1_left.shape[0], img1_left.shape[1]), dtype=np.uint8)\n",
    "    img1_left_new[img1_left_bb[2]:img1_left_bb[3],img1_left_bb[0]:img1_left_bb[1]] = img1_left[img1_left_bb[2]:img1_left_bb[3],img1_left_bb[0]:img1_left_bb[1]]\n",
    "    img1_right_new = np.zeros((img1_right.shape[0], img1_right.shape[1]), dtype=np.uint8)\n",
    "    img1_right_new[img1_right_bb[2]:img1_right_bb[3],img1_right_bb[0]:img1_right_bb[1]] = img1_right[img1_right_bb[2]:img1_right_bb[3],img1_right_bb[0]:img1_right_bb[1]]\n",
    "    \n",
    "    img1_new = np.zeros((img1.shape[0], img1.shape[1]), dtype=np.uint8)\n",
    "    img1_new = np.hstack((img1_left_new,img1_right_new))\n",
    "    \n",
    "    img2_left_new = np.zeros((img2_left.shape[0], img2_left.shape[1]), dtype=np.uint8)\n",
    "    img2_left_new[img2_left_bb[2]:img2_left_bb[3],img2_left_bb[0]:img2_left_bb[1]] = img2_left[img2_left_bb[2]:img2_left_bb[3],img2_left_bb[0]:img2_left_bb[1]]\n",
    "    img2_right_new = np.zeros((img2_right.shape[0], img2_right.shape[1]), dtype=np.uint8)\n",
    "    img2_right_new[img2_right_bb[2]:img2_right_bb[3],img2_right_bb[0]:img2_right_bb[1]] = img2_right[img2_right_bb[2]:img2_right_bb[3],img2_right_bb[0]:img2_right_bb[1]]\n",
    "    \n",
    "    img2_new = np.zeros((img2.shape[0], img2.shape[1]), dtype=np.uint8)\n",
    "    img2_new = np.hstack((img2_left_new,img2_right_new))\n",
    "    \n",
    "    row_indices1,col_indices1 = np.nonzero(img1_new)\n",
    "    row_indices2,col_indices2 = np.nonzero(img2_new)\n",
    "    \n",
    "    return img1_new,(col_indices1,row_indices1),img2_new,(col_indices2,row_indices2)"
   ]
  },
  {
   "cell_type": "markdown",
   "metadata": {},
   "source": [
    "### Ellipse Fitting"
   ]
  },
  {
   "cell_type": "code",
   "execution_count": null,
   "metadata": {},
   "outputs": [],
   "source": [
    "def rect_transform(box, trans):\n",
    "    ellipse = (((box[0][0]+trans[1])/trans[0],(box[0][1]+trans[2])/trans[0]),\n",
    "        (box[1][1]/trans[0],box[1][0]/trans[0]),box[2]+90)\n",
    "    return ellipse"
   ]
  },
  {
   "cell_type": "code",
   "execution_count": null,
   "metadata": {},
   "outputs": [],
   "source": [
    "def write_ellipse_params(e,f):\n",
    "    write_config = configparser.ConfigParser()\n",
    "    write_config.add_section(\"iris\")\n",
    "    write_config.set(\"iris\",\"exist\",\"true\")\n",
    "    write_config.set(\"iris\",\"center_x\",str(e[0][0]))\n",
    "    write_config.set(\"iris\",\"center_y\",str(e[0][1]))\n",
    "    write_config.set(\"iris\",\"short_radius\",str(e[1][1]/2))\n",
    "    write_config.set(\"iris\",\"long_radius\",str(e[1][0]/2))\n",
    "    write_config.set(\"iris\",\"rad_phi\",str(e[2]))\n",
    "\n",
    "    cfgfile = open(f,'w')\n",
    "    write_config.write(cfgfile)\n",
    "    cfgfile.close()"
   ]
  }
 ],
 "metadata": {
  "kernelspec": {
   "display_name": "py3.7",
   "language": "python",
   "name": "py3.7"
  },
  "language_info": {
   "codemirror_mode": {
    "name": "ipython",
    "version": 3
   },
   "file_extension": ".py",
   "mimetype": "text/x-python",
   "name": "python",
   "nbconvert_exporter": "python",
   "pygments_lexer": "ipython3",
   "version": "3.7.11"
  },
  "varInspector": {
   "cols": {
    "lenName": 16,
    "lenType": 16,
    "lenVar": 40
   },
   "kernels_config": {
    "python": {
     "delete_cmd_postfix": "",
     "delete_cmd_prefix": "del ",
     "library": "var_list.py",
     "varRefreshCmd": "print(var_dic_list())"
    },
    "r": {
     "delete_cmd_postfix": ") ",
     "delete_cmd_prefix": "rm(",
     "library": "var_list.r",
     "varRefreshCmd": "cat(var_dic_list()) "
    }
   },
   "types_to_exclude": [
    "module",
    "function",
    "builtin_function_or_method",
    "instance",
    "_Feature"
   ],
   "window_display": false
  }
 },
 "nbformat": 4,
 "nbformat_minor": 2
}
