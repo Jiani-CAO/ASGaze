{
 "cells": [
  {
   "cell_type": "code",
   "execution_count": null,
   "metadata": {},
   "outputs": [],
   "source": [
    "import sys\n",
    "sys.path.append(\"D:\\\\ASGaze\")\n",
    "\n",
    "import numpy as np\n",
    "import matplotlib.pyplot as plt\n",
    "\n",
    "import import_ipynb\n",
    "from gaze_ray_estimator.estimator import get_cone, load_files\n",
    "from mapping.shape_constrained import cal_offsets\n",
    "from mapping.mapping_principle import Line3"
   ]
  },
  {
   "cell_type": "markdown",
   "metadata": {},
   "source": [
    "### Step 1: Ambiguity Removal"
   ]
  },
  {
   "cell_type": "code",
   "execution_count": null,
   "metadata": {},
   "outputs": [],
   "source": [
    "def calAngle(a,b):\n",
    "    unit_a = a / np.linalg.norm(a)\n",
    "    unit_b = b / np.linalg.norm(b)\n",
    "    dot_product = np.dot(unit_a, unit_b)\n",
    "    rad = np.arccos(dot_product)    \n",
    "    return rad\n",
    "\n",
    "def ambiguity_removal(gaze_direction,start,end,window):\n",
    "    angle_0_list = []\n",
    "    angle_1_list = []\n",
    "\n",
    "    for i in range(start+window,end,window):\n",
    "        angle_0 = calAngle(gaze_direction[i,0],gaze_direction[start,0])\n",
    "        angle_1 = calAngle(gaze_direction[i,1],gaze_direction[start,1])\n",
    "        angle_0_list.append(angle_0)\n",
    "        angle_1_list.append(angle_1)\n",
    "        \n",
    "    x = np.arange(start+window,end,window)\n",
    "    l1=plt.plot(x,angle_0_list,'r--',label='angle_0')\n",
    "    l2=plt.plot(x,angle_1_list,'g--',label='angle_1')\n",
    "    plt.plot(x,angle_0_list,'ro-',x,angle_1_list,'g+-')\n",
    "    plt.xlabel('Distance change from start point')\n",
    "    plt.ylabel('Cumulative rotation differences')\n",
    "    plt.legend()\n",
    "    plt.show()\n",
    "    \n",
    "    angle_0_np = np.array(angle_0_list)\n",
    "    angle_1_np = np.array(angle_1_list)\n",
    "    if(np.sum(angle_0_np) > np.sum(angle_1_np)):\n",
    "        true_seq = 1\n",
    "    else:\n",
    "        true_seq = 0\n",
    "        \n",
    "    return true_seq"
   ]
  },
  {
   "cell_type": "code",
   "execution_count": null,
   "metadata": {
    "scrolled": true
   },
   "outputs": [],
   "source": [
    "def ambiguity_removal_main(p_root,test_name,model_id,iris_radius):\n",
    "\n",
    "    _,frame_files,ellipse_files_l,ellipse_files_r,crop_info,_,camera_matrix_inv = load_files(p_root,test_name,model_id)\n",
    "    gaze_l_list = []\n",
    "    gaze_r_list = []\n",
    "\n",
    "    for i in range(0,len(frame_files)):\n",
    "        _,_,gaze_l,gaze_r,_,_ = get_cone(ellipse_files_l[i],ellipse_files_r[i],crop_info[i],camera_matrix_inv,iris_radius)\n",
    "        gaze_l_list.append(gaze_l)\n",
    "        gaze_r_list.append(gaze_r)\n",
    "\n",
    "    gaze_l_np = np.array(gaze_l_list)\n",
    "    gaze_r_np = np.array(gaze_r_list)\n",
    "\n",
    "    start = 0\n",
    "    end = len(frame_files)\n",
    "    window = 20\n",
    "    true_seq = ambiguity_removal(gaze_l_np,start,end,window)\n",
    "    print(\"True sequence is:\",true_seq)\n",
    "    \n",
    "    return true_seq"
   ]
  },
  {
   "cell_type": "markdown",
   "metadata": {},
   "source": [
    "### Step 2: Calculate offsets between CCS and TCS"
   ]
  },
  {
   "cell_type": "code",
   "execution_count": null,
   "metadata": {},
   "outputs": [],
   "source": [
    "def cal_offsets_main(p_root,test_name_list,model_id,iris_radius,true_seq,thresholds):\n",
    "    PoG_mean_list = []\n",
    "    # T look-up table\n",
    "    # Reference from https://www.scribbr.com/statistics/students-t-table/\n",
    "    t = [None,12.706,4.303,3.182,2.776,2.571,2.447,2.365,2.306,2.262,2.228,2.201,2.179,2.160,2.145,2.131,2.120,2.110,2.101,2.093,2.086,2.080,2.074,2.069,2.064,2.060,2.056,2.052,2.048,2.045,2.042]\n",
    "\n",
    "    for idx,test_name in enumerate(test_name_list):\n",
    "        _,frame_files,ellipse_files_l,ellipse_files_r,crop_info,_,camera_matrix_inv = load_files(p_root,test_name,model_id)\n",
    "        PoG_list = []\n",
    "        for i in range(0,len(frame_files)):\n",
    "            _,_,gaze_l,gaze_r,gaze_origin_l,gaze_origin_r = get_cone(ellipse_files_l[i],ellipse_files_r[i],crop_info[i],camera_matrix_inv,iris_radius)\n",
    "            gaze_l = gaze_l[true_seq] \n",
    "            gaze_r = gaze_r[true_seq]\n",
    "\n",
    "            gaze_origin_l = gaze_origin_l[true_seq]\n",
    "            gaze_origin_r = gaze_origin_r[true_seq]\n",
    "\n",
    "            gaze_line_l = Line3(p=gaze_origin_l[:3], normal=gaze_l)\n",
    "            PoG_l = gaze_line_l.get_pos() # CCS\n",
    "            gaze_line_r = Line3(p=gaze_origin_r[:3], normal=gaze_r)\n",
    "            PoG_r = gaze_line_r.get_pos() # CCS\n",
    "\n",
    "            PoG = 0.5*(PoG_l+PoG_r)\n",
    "            PoG_list.append(PoG)\n",
    "            \n",
    "            if(i > 2):\n",
    "                df = i-1\n",
    "                \n",
    "                standard_x = np.std(np.array(PoG_list)[:i,0])\n",
    "                temp_x = (standard_x/np.sqrt(i))*t[df]\n",
    "                \n",
    "                standard_y = np.std(np.array(PoG_list)[:i,1])\n",
    "                temp_y = (standard_y/np.sqrt(i))*t[df]\n",
    "                \n",
    "                if((temp_x <= thresholds[idx]) and (temp_y) <= thresholds[idx]):\n",
    "                    PoG_mean_list.append(np.mean(np.array(PoG_list)[:,:2],axis=0))\n",
    "                    break\n",
    "                    \n",
    "    PoG_np = np.array(PoG_mean_list)\n",
    "    index,offsets = cal_offsets(PoG_np)\n",
    "    print(\"offsets\",offsets)\n",
    "    \n",
    "    return offsets"
   ]
  }
 ],
 "metadata": {
  "kernelspec": {
   "display_name": "Python 3 (ipykernel)",
   "language": "python",
   "name": "python3"
  },
  "language_info": {
   "codemirror_mode": {
    "name": "ipython",
    "version": 3
   },
   "file_extension": ".py",
   "mimetype": "text/x-python",
   "name": "python",
   "nbconvert_exporter": "python",
   "pygments_lexer": "ipython3",
   "version": "3.8.13"
  },
  "varInspector": {
   "cols": {
    "lenName": 16,
    "lenType": 16,
    "lenVar": 40
   },
   "kernels_config": {
    "python": {
     "delete_cmd_postfix": "",
     "delete_cmd_prefix": "del ",
     "library": "var_list.py",
     "varRefreshCmd": "print(var_dic_list())"
    },
    "r": {
     "delete_cmd_postfix": ") ",
     "delete_cmd_prefix": "rm(",
     "library": "var_list.r",
     "varRefreshCmd": "cat(var_dic_list()) "
    }
   },
   "types_to_exclude": [
    "module",
    "function",
    "builtin_function_or_method",
    "instance",
    "_Feature"
   ],
   "window_display": false
  }
 },
 "nbformat": 4,
 "nbformat_minor": 2
}
