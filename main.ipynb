{
 "cells": [
  {
   "cell_type": "code",
   "execution_count": 1,
   "id": "efbcfdb4",
   "metadata": {},
   "outputs": [
    {
     "name": "stdout",
     "output_type": "stream",
     "text": [
      "importing Jupyter notebook from D:\\ASGaze\\iris_boundary_detector\\data_sources\\detection.ipynb\n",
      "importing Jupyter notebook from D:\\ASGaze\\iris_boundary_detector\\inference.ipynb\n",
      "importing Jupyter notebook from D:\\ASGaze\\iris_boundary_detector\\utils\\refinement.ipynb\n",
      "importing Jupyter notebook from D:\\ASGaze\\iris_boundary_detector\\data_sources\\ASGaze_data.ipynb\n",
      "importing Jupyter notebook from D:\\ASGaze\\iris_boundary_detector\\data_sources\\transform.ipynb\n",
      "importing Jupyter notebook from D:\\ASGaze\\iris_boundary_detector\\graph\\losses.ipynb\n",
      "importing Jupyter notebook from D:\\ASGaze\\iris_boundary_detector\\graph\\vgg_unet.ipynb\n",
      "importing Jupyter notebook from D:\\ASGaze\\iris_boundary_detector\\utils\\load_model.ipynb\n",
      "importing Jupyter notebook from setup.ipynb\n",
      "importing Jupyter notebook from D:\\ASGaze\\gaze_ray_estimator\\estimator.ipynb\n",
      "importing Jupyter notebook from D:\\ASGaze\\gaze_ray_estimator\\cone_model.ipynb\n",
      "importing Jupyter notebook from D:\\ASGaze\\mapping\\mapping_principle.ipynb\n",
      "importing Jupyter notebook from D:\\ASGaze\\mapping\\shape_constrained.ipynb\n"
     ]
    }
   ],
   "source": [
    "import sys\n",
    "sys.path.append(\"D:\\\\ASGaze\")\n",
    "\n",
    "import os\n",
    "import os.path as path\n",
    "\n",
    "import numpy as np\n",
    "import cv2\n",
    "import matplotlib.pyplot as plt\n",
    "from matplotlib.animation import FuncAnimation\n",
    "\n",
    "import import_ipynb\n",
    "from iris_boundary_detector.data_sources.detection import detection_main\n",
    "from iris_boundary_detector.inference import inference_main\n",
    "from setup import ambiguity_removal_main,cal_offsets_main\n",
    "from gaze_ray_estimator.estimator import tracker,load_files\n",
    "from mapping.mapping_principle import screen2cam_mm"
   ]
  },
  {
   "cell_type": "code",
   "execution_count": 2,
   "id": "9d1b41ac",
   "metadata": {},
   "outputs": [],
   "source": [
    "root_path = \"./\"\n",
    "data_path = path.join(root_path,\"Database\",\"raw_data\")"
   ]
  },
  {
   "cell_type": "markdown",
   "id": "bdbd19d8",
   "metadata": {},
   "source": [
    "### Step 1: Detect and crop the eye using Dilb"
   ]
  },
  {
   "cell_type": "code",
   "execution_count": 3,
   "id": "60baa62d",
   "metadata": {
    "scrolled": true
   },
   "outputs": [
    {
     "name": "stdout",
     "output_type": "stream",
     "text": [
      "tracking\n",
      "Extracting frames from ./Database\\raw_data\\tracking to ./Database\\raw_data\\tracking\\frame/ ...\n",
      "Successfully extract 588 frames.\n",
      "Total frames 588. Success rate: 1.0\n",
      "corner_1\n",
      "Extracting frames from ./Database\\raw_data\\corner_1 to ./Database\\raw_data\\corner_1\\frame/ ...\n",
      "Successfully extract 166 frames.\n",
      "Total frames 166. Success rate: 1.0\n",
      "corner_2\n",
      "Extracting frames from ./Database\\raw_data\\corner_2 to ./Database\\raw_data\\corner_2\\frame/ ...\n",
      "Successfully extract 170 frames.\n",
      "Total frames 170. Success rate: 1.0\n",
      "corner_3\n",
      "Extracting frames from ./Database\\raw_data\\corner_3 to ./Database\\raw_data\\corner_3\\frame/ ...\n",
      "Successfully extract 208 frames.\n",
      "Total frames 208. Success rate: 1.0\n",
      "corner_4\n",
      "Extracting frames from ./Database\\raw_data\\corner_4 to ./Database\\raw_data\\corner_4\\frame/ ...\n",
      "Successfully extract 187 frames.\n",
      "Total frames 187. Success rate: 1.0\n",
      "Done\n"
     ]
    }
   ],
   "source": [
    "# There are two types of data, one for gaze tracking (\"tracking\"), and the other one for mapping (\"corner_1\", \"corner_2\", \"corner_3\", \"corner_4\")\n",
    "detection_list = [\"tracking\",\"corner_1\",\"corner_2\",\"corner_3\",\"corner_4\"]\n",
    "\n",
    "detection_main(data_path,detection_list,rotate=True)"
   ]
  },
  {
   "cell_type": "markdown",
   "id": "989987e8",
   "metadata": {},
   "source": [
    "### Step 2: Iris boundary detector"
   ]
  },
  {
   "cell_type": "code",
   "execution_count": 4,
   "id": "84c5b007",
   "metadata": {
    "scrolled": true
   },
   "outputs": [
    {
     "name": "stdout",
     "output_type": "stream",
     "text": [
      "tracking\n",
      "runs_dir D:\\ASGaze\\Database\\raw_data\\tracking\\0207-1231\n",
      "load checkpoingts from D:\\ASGaze\\Database\\output\\CMonitor-0207-1231\n",
      "datapath D:\\ASGaze\\Database\\raw_data\\tracking\\crop\\left\n",
      "Load 588 samples of tracking/crop Dataset left split from D:/ASGaze/Database/raw_data\\tracking/crop\\left\n",
      "datapath D:\\ASGaze\\Database\\raw_data\\tracking\\crop\\right\n",
      "Load 588 samples of tracking/crop Dataset right split from D:/ASGaze/Database/raw_data\\tracking/crop\\right\n"
     ]
    },
    {
     "name": "stderr",
     "output_type": "stream",
     "text": [
      "C:\\Users\\jncao2\\Anaconda3\\envs\\py3.7\\lib\\site-packages\\torch\\nn\\functional.py:3509: UserWarning: nn.functional.upsample is deprecated. Use nn.functional.interpolate instead.\n",
      "  warnings.warn(\"nn.functional.upsample is deprecated. Use nn.functional.interpolate instead.\")\n",
      "C:\\Users\\jncao2\\Anaconda3\\envs\\py3.7\\lib\\site-packages\\torch\\nn\\functional.py:3635: UserWarning: Default upsampling behavior when mode=bilinear is changed to align_corners=False since 0.4.0. Please specify align_corners=True if the old behavior is desired. See the documentation of nn.Upsample for details.\n",
      "  \"See the documentation of nn.Upsample for details.\".format(mode)\n"
     ]
    },
    {
     "name": "stdout",
     "output_type": "stream",
     "text": [
      "Left eye inference finish\n",
      "Right eye inference finish\n",
      "corner_1\n",
      "runs_dir D:\\ASGaze\\Database\\raw_data\\corner_1\\0207-1231\n",
      "load checkpoingts from D:\\ASGaze\\Database\\output\\CMonitor-0207-1231\n",
      "datapath D:\\ASGaze\\Database\\raw_data\\corner_1\\crop\\left\n",
      "Load 166 samples of corner_1/crop Dataset left split from D:/ASGaze/Database/raw_data\\corner_1/crop\\left\n",
      "datapath D:\\ASGaze\\Database\\raw_data\\corner_1\\crop\\right\n",
      "Load 166 samples of corner_1/crop Dataset right split from D:/ASGaze/Database/raw_data\\corner_1/crop\\right\n",
      "Left eye inference finish\n",
      "Right eye inference finish\n",
      "corner_2\n",
      "runs_dir D:\\ASGaze\\Database\\raw_data\\corner_2\\0207-1231\n",
      "load checkpoingts from D:\\ASGaze\\Database\\output\\CMonitor-0207-1231\n",
      "datapath D:\\ASGaze\\Database\\raw_data\\corner_2\\crop\\left\n",
      "Load 170 samples of corner_2/crop Dataset left split from D:/ASGaze/Database/raw_data\\corner_2/crop\\left\n",
      "datapath D:\\ASGaze\\Database\\raw_data\\corner_2\\crop\\right\n",
      "Load 170 samples of corner_2/crop Dataset right split from D:/ASGaze/Database/raw_data\\corner_2/crop\\right\n",
      "Left eye inference finish\n",
      "Right eye inference finish\n",
      "corner_3\n",
      "runs_dir D:\\ASGaze\\Database\\raw_data\\corner_3\\0207-1231\n",
      "load checkpoingts from D:\\ASGaze\\Database\\output\\CMonitor-0207-1231\n",
      "datapath D:\\ASGaze\\Database\\raw_data\\corner_3\\crop\\left\n",
      "Load 208 samples of corner_3/crop Dataset left split from D:/ASGaze/Database/raw_data\\corner_3/crop\\left\n",
      "datapath D:\\ASGaze\\Database\\raw_data\\corner_3\\crop\\right\n",
      "Load 208 samples of corner_3/crop Dataset right split from D:/ASGaze/Database/raw_data\\corner_3/crop\\right\n",
      "Left eye inference finish\n",
      "initial else\n",
      "else\n",
      "else\n",
      "else\n",
      "else\n",
      "else\n",
      "else\n",
      "else\n",
      "else\n",
      "else\n",
      "else\n",
      "else\n",
      "else\n",
      "else\n",
      "else\n",
      "else\n",
      "else\n",
      "else\n",
      "else\n",
      "else\n",
      "else\n",
      "else\n",
      "else\n",
      "else\n",
      "else\n",
      "else\n",
      "else\n",
      "else\n",
      "else\n",
      "else\n",
      "else\n",
      "else\n",
      "else\n",
      "Right eye inference finish\n",
      "corner_4\n",
      "runs_dir D:\\ASGaze\\Database\\raw_data\\corner_4\\0207-1231\n",
      "load checkpoingts from D:\\ASGaze\\Database\\output\\CMonitor-0207-1231\n",
      "datapath D:\\ASGaze\\Database\\raw_data\\corner_4\\crop\\left\n",
      "Load 187 samples of corner_4/crop Dataset left split from D:/ASGaze/Database/raw_data\\corner_4/crop\\left\n",
      "datapath D:\\ASGaze\\Database\\raw_data\\corner_4\\crop\\right\n",
      "Load 187 samples of corner_4/crop Dataset right split from D:/ASGaze/Database/raw_data\\corner_4/crop\\right\n",
      "Left eye inference finish\n",
      "Right eye inference finish\n",
      "DONE\n"
     ]
    }
   ],
   "source": [
    "gaze_inference = \"./iris_boundary_detector/configs/gaze_inference.json\"\n",
    "test_name_list = [\"tracking\",\"corner_1\",\"corner_2\",\"corner_3\",\"corner_4\"]\n",
    "for test_name in test_name_list:\n",
    "    print(test_name) \n",
    "    inference_main(gaze_inference,test_name,data_flag=0,video=True)\n",
    "print('DONE')"
   ]
  },
  {
   "cell_type": "markdown",
   "id": "67cc3b9c",
   "metadata": {},
   "source": [
    "### Step 3: Remove ambiguity and calculate the offsets between CCS and TCS"
   ]
  },
  {
   "cell_type": "code",
   "execution_count": 5,
   "id": "d0f88987",
   "metadata": {},
   "outputs": [
    {
     "data": {
      "image/png": "[encoded data removed]",
      "text/plain": [
       "<Figure size 432x288 with 1 Axes>"
      ]
     },
     "metadata": {
      "needs_background": "light"
     },
     "output_type": "display_data"
    },
    {
     "name": "stdout",
     "output_type": "stream",
     "text": [
      "True sequence is: 1\n",
      "offsets [294.44782468 309.87838956]\n"
     ]
    }
   ],
   "source": [
    "test_name = \"tracking\"\n",
    "model_id = \"0207-1231\"\n",
    "iris_radius = 6\n",
    "true_seq = ambiguity_removal_main(data_path,test_name,model_id,iris_radius)\n",
    "\n",
    "test_name_list = [\"corner_1\",\"corner_2\",\"corner_3\",\"corner_4\"]\n",
    "thresholds = [3,3,7,7] # Set threshold to determine the minimum number of eye frames to use when the user looks at each corner\n",
    "offsets = cal_offsets_main(data_path,test_name_list,model_id,iris_radius,true_seq,thresholds)"
   ]
  },
  {
   "cell_type": "markdown",
   "id": "f28cc432",
   "metadata": {},
   "source": [
    "### Step 4: Gaze ray estimator"
   ]
  },
  {
   "cell_type": "code",
   "execution_count": 6,
   "id": "1a93d486",
   "metadata": {
    "scrolled": true
   },
   "outputs": [
    {
     "name": "stdout",
     "output_type": "stream",
     "text": [
      "tracking\n",
      "Gaze Ray Estimator Done\n",
      "-------------Error Calculation Done----------\n",
      "\n",
      "x_axis_best:0.04746823043750226 mm, index:215\n",
      "\n",
      "x_axis_worst:94.48521630590193 mm, index:238\n",
      "\n",
      "y_axis_best:0.10460969940825748 mm, index:465\n",
      "\n",
      "y_axis_worst:54.444490105229875 mm, index:449\n",
      "\n",
      "overall error:17.903518730320208 mm\n",
      "\n",
      "overall error after moving average filter:17.266070432837385 mm\n",
      "\n"
     ]
    }
   ],
   "source": [
    "window_size = 2\n",
    "is_video = True\n",
    "\n",
    "print(test_name)\n",
    "p_model,frame_files,ellipse_files_l,ellipse_files_r,crop_info,gaze_label_mm,camera_matrix_inv = load_files(data_path,test_name,model_id)\n",
    "rotated_rect_l,rotated_rect_r,gaze_origin_l,gaze_origin_r,screen_left,screen_right = tracker(p_model,frame_files,ellipse_files_l,ellipse_files_r,crop_info,gaze_label_mm,camera_matrix_inv,iris_radius,true_seq,offsets,window_size,is_video)"
   ]
  },
  {
   "cell_type": "markdown",
   "id": "d4473b16",
   "metadata": {},
   "source": [
    "### Step 5: Generate demo video (optional)"
   ]
  },
  {
   "cell_type": "code",
   "execution_count": 7,
   "id": "4bd45dd0",
   "metadata": {},
   "outputs": [
    {
     "name": "stdout",
     "output_type": "stream",
     "text": [
      "Done\n"
     ]
    }
   ],
   "source": [
    "demo = cv2.VideoWriter(path.join(p_model, \"3d_trace.avi\"), cv2.VideoWriter_fourcc(*\"XVID\"), 30, (2160,3840))\n",
    "for i in range(0,len(frame_files)):\n",
    "    #-------------------Visulization----------------------\n",
    "    full_frame = cv2.imread(frame_files[i])\n",
    "\n",
    "    #----via ellipse-----\n",
    "    cv2.ellipse(full_frame, rotated_rect_l[i],(255, 255, 255), 2)\n",
    "    cv2.ellipse(full_frame, rotated_rect_r[i],(255, 255, 255), 2)\n",
    "    #----via circle-----\n",
    "    center_l = (int(rotated_rect_l[i][0][0]),int(rotated_rect_l[i][0][1]))\n",
    "    cv2.circle(full_frame,center_l,20,(255, 255, 255),-1)\n",
    "\n",
    "    center_r = (int(rotated_rect_r[i][0][0]),int(rotated_rect_r[i][0][1]))\n",
    "    cv2.circle(full_frame,center_r,20,(255, 255, 255),-1)\n",
    "    #----via polylines-----\n",
    "    gaze_l = screen2cam_mm(screen_left[i],offsets[0],offsets[1]) - gaze_origin_l[i][:3]\n",
    "    gaze_stick_l = gaze_l/np.linalg.norm(gaze_l)*500\n",
    "    cv2.polylines(full_frame,np.array([[center_l,center_l+gaze_stick_l[:2]]],dtype=int),True, (255,255,0),8)\n",
    "\n",
    "    gaze_r = screen2cam_mm(screen_right[i],offsets[0],offsets[1]) - gaze_origin_r[i][:3]\n",
    "    gaze_stick_r = gaze_r/np.linalg.norm(gaze_r)*500\n",
    "    cv2.polylines(full_frame,np.array([[center_r,center_r+gaze_stick_r[:2]]],dtype=int),True, (255,255,0),8)\n",
    "    \n",
    "    demo.write(full_frame)\n",
    "demo.release()\n",
    "print(\"Done\")"
   ]
  },
  {
   "cell_type": "code",
   "execution_count": 8,
   "id": "26a9290b",
   "metadata": {},
   "outputs": [
    {
     "name": "stdout",
     "output_type": "stream",
     "text": [
      "tracking\n",
      "Done\n"
     ]
    }
   ],
   "source": [
    "# Reference from https://towardsdatascience.com/matplotlib-animations-in-jupyter-notebook-4422e4f0e389\n",
    "plt.ioff()\n",
    "\n",
    "print(test_name)\n",
    "screen = 0.5*(screen_left+screen_right)\n",
    "\n",
    "# Create a figure with an axes\n",
    "fig, ax = plt.subplots(figsize = (26.68,15))\n",
    "ax.set_xlim(left=0, right=527)\n",
    "ax.set_ylim(bottom=296, top=0)\n",
    "\n",
    "ax.set_xlabel('width',fontdict={'size':40})\n",
    "ax.set_ylabel('height',fontdict={'size':40})\n",
    "plt.tick_params(labelsize=40)\n",
    "labels = ax.get_xticklabels() + ax.get_yticklabels()\n",
    "[label.set_fontname('Times New Roman') for label in labels]\n",
    "\n",
    "ax.xaxis.tick_top() \n",
    "\n",
    "# Create a point in the axes\n",
    "point_screen, = ax.plot(0,1, ms = 40,color=\"blue\", marker=\"o\")\n",
    "point_label, = ax.plot(0,1, ms = 40,color=\"red\",marker=\"o\")\n",
    "ax.legend((point_screen, point_label), ('Estimated Gaze Point', 'Ground Truth'), loc='best', fontsize = 40, shadow=True)\n",
    "\n",
    "# Updating function, to be repeatedly called by the animationb\n",
    "def update(idx):\n",
    "    # Obtain point coordinates \n",
    "    x_screen,y_screen = screen[idx]\n",
    "    x_label,y_label = gaze_label_mm[idx]\n",
    "    # Set point's coordinates\n",
    "    point_screen.set_data([x_screen],[y_screen])\n",
    "    point_label.set_data([x_label],[y_label])\n",
    "    return point_screen,point_label\n",
    "\n",
    "anim = FuncAnimation(fig, update, repeat=False, frames=np.arange(len(gaze_label_mm)), interval=1/30.0*1000)\n",
    "anim.save(path.join(p_model,\"2d_trace.mp4\"))\n",
    "\n",
    "plt.close()\n",
    "print(\"Done\")"
   ]
  }
 ],
 "metadata": {
  "kernelspec": {
   "display_name": "py3.7",
   "language": "python",
   "name": "py3.7"
  },
  "language_info": {
   "codemirror_mode": {
    "name": "ipython",
    "version": 3
   },
   "file_extension": ".py",
   "mimetype": "text/x-python",
   "name": "python",
   "nbconvert_exporter": "python",
   "pygments_lexer": "ipython3",
   "version": "3.7.11"
  }
 },
 "nbformat": 4,
 "nbformat_minor": 5
}
