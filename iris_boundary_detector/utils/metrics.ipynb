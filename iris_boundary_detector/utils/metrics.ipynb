{
 "cells": [
  {
   "cell_type": "code",
   "execution_count": null,
   "metadata": {},
   "outputs": [],
   "source": [
    "import numpy as np\n",
    "import torch\n",
    "import configparser"
   ]
  },
  {
   "cell_type": "code",
   "execution_count": null,
   "metadata": {
    "hidden": true
   },
   "outputs": [],
   "source": [
    "# Overall accuracy\n",
    "def multi_acc(pred, label):\n",
    "    _, tags = torch.max(pred, dim = 1)\n",
    "    corrects = (tags == label).float()\n",
    "    acc = corrects.sum() / corrects.numel()\n",
    "    acc = acc * 100\n",
    "    return acc"
   ]
  },
  {
   "cell_type": "code",
   "execution_count": null,
   "metadata": {
    "hidden": true
   },
   "outputs": [],
   "source": [
    "def fast_hist(a, b, n):\n",
    "    \"\"\"\n",
    "    Return a histogram that's the confusion matrix of a and b\n",
    "    :param a: np.ndarray with shape (HxW,)\n",
    "    :param b: np.ndarray with shape (HxW,)\n",
    "    :param n: num of classes\n",
    "    :return: np.ndarray with shape (n, n)\n",
    "    \"\"\"\n",
    "    k = (a >= 0) & (a < n)\n",
    "    return np.bincount(n * a[k].astype(int) + b[k], minlength=n ** 2).reshape(n, n)\n",
    "\n",
    "\n",
    "def per_class_iu(hist):\n",
    "    \"\"\"\n",
    "    Calculate the IoU(Intersection over Union) for each class\n",
    "    :param hist: np.ndarray with shape (n, n)\n",
    "    :return: np.ndarray with shape (n,)\n",
    "    \"\"\"\n",
    "    np.seterr(divide=\"ignore\", invalid=\"ignore\")\n",
    "    res = np.diag(hist) / (hist.sum(1) + hist.sum(0) - np.diag(hist))\n",
    "    np.seterr(divide=\"warn\", invalid=\"warn\")\n",
    "    res[np.isnan(res)] = 0.\n",
    "    return res\n",
    "\n",
    "class ComputeIoU(object):\n",
    "    \"\"\"\n",
    "    IoU: Intersection over Union\n",
    "    \"\"\"\n",
    "\n",
    "    def __init__(self,n):\n",
    "        # Confusion matrix\n",
    "        self.num_classes = n\n",
    "        self.cfsmatrix = np.zeros((n, n), dtype=\"uint64\")  \n",
    "        self.ious = dict()\n",
    "\n",
    "    def get_cfsmatrix(self):\n",
    "        return self.cfsmatrix  \n",
    "\n",
    "    def get_ious(self):\n",
    "        self.ious = dict(zip(range(self.num_classes), per_class_iu(self.cfsmatrix)))  \n",
    "        return self.ious\n",
    "\n",
    "    def get_miou(self, ignore=None):\n",
    "        self.get_ious()\n",
    "        total_iou = 0\n",
    "        count = 0\n",
    "        for key, value in self.ious.items():\n",
    "            if isinstance(ignore, list) and key in ignore or \\\n",
    "                    isinstance(ignore, int) and key == ignore:\n",
    "                continue\n",
    "            total_iou += value\n",
    "            count += 1\n",
    "        return total_iou / count\n",
    "\n",
    "    def __call__(self, pred, label, flag=True):\n",
    "        \"\"\"\n",
    "        :param pred: [N, H, W]\n",
    "        :param label:  [N, H, W}\n",
    "        :flag: whether from gpu or not\n",
    "        \"\"\"\n",
    "        if flag:\n",
    "            pred = pred.cpu().numpy()\n",
    "            label = label.cpu().numpy()\n",
    "            \n",
    "        assert pred.shape == label.shape\n",
    "\n",
    "        self.cfsmatrix += fast_hist(pred.reshape(-1), label.reshape(-1), self.num_classes).astype(\"uint64\")"
   ]
  }
 ],
 "metadata": {
  "kernelspec": {
   "display_name": "Python 3 (ipykernel)",
   "language": "python",
   "name": "python3"
  },
  "language_info": {
   "codemirror_mode": {
    "name": "ipython",
    "version": 3
   },
   "file_extension": ".py",
   "mimetype": "text/x-python",
   "name": "python",
   "nbconvert_exporter": "python",
   "pygments_lexer": "ipython3",
   "version": "3.8.13"
  },
  "varInspector": {
   "cols": {
    "lenName": 16,
    "lenType": 16,
    "lenVar": 40
   },
   "kernels_config": {
    "python": {
     "delete_cmd_postfix": "",
     "delete_cmd_prefix": "del ",
     "library": "var_list.py",
     "varRefreshCmd": "print(var_dic_list())"
    },
    "r": {
     "delete_cmd_postfix": ") ",
     "delete_cmd_prefix": "rm(",
     "library": "var_list.r",
     "varRefreshCmd": "cat(var_dic_list()) "
    }
   },
   "types_to_exclude": [
    "module",
    "function",
    "builtin_function_or_method",
    "instance",
    "_Feature"
   ],
   "window_display": false
  }
 },
 "nbformat": 4,
 "nbformat_minor": 2
}
